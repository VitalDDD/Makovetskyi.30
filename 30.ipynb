{
 "cells": [
  {
   "cell_type": "code",
   "execution_count": 17,
   "id": "9321179a",
   "metadata": {},
   "outputs": [
    {
     "name": "stdout",
     "output_type": "stream",
     "text": [
      "Розподіл, що очікується:\n",
      "[0, 24]    0.37\n",
      "[24, 48]    1.57\n",
      "[48, 72]    4.56\n",
      "[72, 96]    9.02\n",
      "[96, 120]    12.17\n",
      "[120, 144]    11.19\n",
      "[144, 168]    7.01\n",
      "[168, 192]    2.99\n",
      "[192, 216]    0.87\n",
      "\n",
      "Крітерій Пірсона: 4.86\n",
      "\n",
      "Критичне значення хі-квадрат розподілу: 18.48\n",
      "\n",
      "Не відкидаємо нульову гіпотезу про нормальний закон розподілу\n"
     ]
    }
   ],
   "source": [
    "# Перше завдання \n",
    "\n",
    "import math\n",
    "from scipy.stats import norm, chi2\n",
    "\n",
    "\"\"\" \n",
    "    Вхідні дані - інтервальний статистичний розподіл де перші два значення це початок \n",
    "    і кінець інтервалу, а третє значення кількість спостереженнь у цьому інтервалі \n",
    "\"\"\"\n",
    "data = [(0, 24, 1), (24, 48, 2), (48, 72, 4), (72, 96, 6), (96, 120, 12), (120, 144, 16), \n",
    "        (144, 168, 6), (168, 192, 2), (192, 216, 1)]\n",
    "\n",
    "# Загальна кількість спостережень\n",
    "n = sum([x[2] for x in data])\n",
    "\n",
    "# Середнє значення і дисперсія\n",
    "mean = sum([((x[0]+x[1])/2) * x[2] for x in data]) / n\n",
    "dispers = sum([(((x[0]+x[1])/2) - mean)**2 * x[2] for x in data]) / n\n",
    "\n",
    "# Висуваємо нульову гіпотезу що закон розподілу є нормальним та перевіряємо її\n",
    "\n",
    "# Обчислення очікуваних кількостей спостережень для нормального розподілу\n",
    "expected = []\n",
    "for x in data:\n",
    "    a, b, no_need = x\n",
    "    F_a = norm.cdf((a - mean) / math.sqrt(dispers))\n",
    "    F_b = norm.cdf((b - mean) / math.sqrt(dispers))\n",
    "    expected.append(n * (F_b - F_a))\n",
    "\n",
    "# Обчислення крітерію Пірсона де x[2] - практичне значення з data, у - теоретичне значення пораховане у expected\n",
    "chi_squared = sum([(x[2] - y)**2 / y for x, y in zip(data, expected)])\n",
    "\n",
    "# Кількість ступенів свободи\n",
    "df = len(data) - 2\n",
    "\n",
    "# Критичне значення хі-квадрат розподілу\n",
    "alpha = 0.01\n",
    "critical_value = chi2.ppf(q=1-alpha, df=df)\n",
    "\n",
    "print(\"Розподіл, що очікується:\")\n",
    "for i in range(len(data)):\n",
    "    print(\"[{}, {}]    {:.2f}\".format(data[i][0], data[i][1], expected[i]))\n",
    "    \n",
    "print(\"\\nКрітерій Пірсона: {:.2f}\".format(chi_squared))\n",
    "      \n",
    "print(\"\\nКритичне значення хі-квадрат розподілу: {:.2f}\".format(critical_value))\n",
    "\n",
    "\n",
    "# Перевірка гіпотези\n",
    "if chi_squared < critical_value:\n",
    "    print(\"\\nНе відкидаємо нульову гіпотезу про нормальний закон розподілу\")\n",
    "else:\n",
    "    print(\"\\nВідкидаємо нульову гіпотезу про нормальний закон розподілу\")\n"
   ]
  },
  {
   "cell_type": "code",
   "execution_count": 18,
   "id": "574fbc2e",
   "metadata": {},
   "outputs": [
    {
     "name": "stdout",
     "output_type": "stream",
     "text": [
      "Початок та кінець інтервалу a та b: -3.00, 7.00\n",
      "\n",
      "Щільність розподілу f(x): 0.04\n"
     ]
    }
   ],
   "source": [
    "# Друге завдання \n",
    "\n",
    "from sympy import solve, symbols\n",
    "\n",
    "# Нам відомі математичне сподівання рівномірно розподіленої величини та ймовірність величини бути більше або дорівнювати трьом\n",
    "Mx = 2\n",
    "Px3 = 0.4\n",
    "\n",
    "# Формула для щільності розподілу рівномірно розподіленої величини від a до b\n",
    "f = 1/(b-a)\n",
    "\n",
    "# Тоді вираземо b через a, знаючи що ймовірність Px3=(3-a)/(b-a)=1-0.4 та M=(a+b)/2=2 та вирішемо рівняння\n",
    "x = symbols('x')\n",
    "temp = solve((x-1)/(2*x-4) - 0.6, x)\n",
    "\n",
    "# Початок та кінець інтервалу\n",
    "b = temp[0]\n",
    "a = 4-b\n",
    "print(\"Початок та кінець інтервалу a та b: {:.2f}, {:.2f}\".format(a, b))\n",
    "print(\"\\nЩільність розподілу f(x): {:.2f}\".format(f))\n"
   ]
  },
  {
   "cell_type": "code",
   "execution_count": null,
   "id": "924ec810",
   "metadata": {},
   "outputs": [],
   "source": []
  }
 ],
 "metadata": {
  "kernelspec": {
   "display_name": "Python 3 (ipykernel)",
   "language": "python",
   "name": "python3"
  },
  "language_info": {
   "codemirror_mode": {
    "name": "ipython",
    "version": 3
   },
   "file_extension": ".py",
   "mimetype": "text/x-python",
   "name": "python",
   "nbconvert_exporter": "python",
   "pygments_lexer": "ipython3",
   "version": "3.9.13"
  }
 },
 "nbformat": 4,
 "nbformat_minor": 5
}
